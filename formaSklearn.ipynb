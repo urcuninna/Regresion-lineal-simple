{
 "cells": [
  {
   "cell_type": "code",
   "execution_count": 9,
   "metadata": {},
   "outputs": [
    {
     "data": {
      "text/html": [
       "<div>\n",
       "<style scoped>\n",
       "    .dataframe tbody tr th:only-of-type {\n",
       "        vertical-align: middle;\n",
       "    }\n",
       "\n",
       "    .dataframe tbody tr th {\n",
       "        vertical-align: top;\n",
       "    }\n",
       "\n",
       "    .dataframe thead th {\n",
       "        text-align: right;\n",
       "    }\n",
       "</style>\n",
       "<table border=\"1\" class=\"dataframe\">\n",
       "  <thead>\n",
       "    <tr style=\"text-align: right;\">\n",
       "      <th></th>\n",
       "      <th>SAT</th>\n",
       "      <th>GPA</th>\n",
       "    </tr>\n",
       "  </thead>\n",
       "  <tbody>\n",
       "    <tr>\n",
       "      <th>0</th>\n",
       "      <td>1714</td>\n",
       "      <td>2.40</td>\n",
       "    </tr>\n",
       "    <tr>\n",
       "      <th>1</th>\n",
       "      <td>1664</td>\n",
       "      <td>2.52</td>\n",
       "    </tr>\n",
       "    <tr>\n",
       "      <th>2</th>\n",
       "      <td>1760</td>\n",
       "      <td>2.54</td>\n",
       "    </tr>\n",
       "    <tr>\n",
       "      <th>3</th>\n",
       "      <td>1685</td>\n",
       "      <td>2.74</td>\n",
       "    </tr>\n",
       "    <tr>\n",
       "      <th>4</th>\n",
       "      <td>1693</td>\n",
       "      <td>2.83</td>\n",
       "    </tr>\n",
       "  </tbody>\n",
       "</table>\n",
       "</div>"
      ],
      "text/plain": [
       "    SAT   GPA\n",
       "0  1714  2.40\n",
       "1  1664  2.52\n",
       "2  1760  2.54\n",
       "3  1685  2.74\n",
       "4  1693  2.83"
      ]
     },
     "execution_count": 9,
     "metadata": {},
     "output_type": "execute_result"
    }
   ],
   "source": [
    "import pandas as pd\n",
    "import numpy as np\n",
    "import matplotlib.pyplot as plt\n",
    "from sklearn import  linear_model\n",
    " \n",
    "data= pd.read_csv('1.01. Simple linear regression.csv')\n",
    "data.head()\n",
    "\n"
   ]
  },
  {
   "attachments": {},
   "cell_type": "markdown",
   "metadata": {},
   "source": [
    "En este data set hay 84 datos; el SAT corresponde al promedio del examen de admisión a la universidad y GPA es el promedio universitario de calificaciones al momento de graduarse de la universidad"
   ]
  },
  {
   "cell_type": "code",
   "execution_count": 10,
   "metadata": {},
   "outputs": [
    {
     "data": {
      "text/html": [
       "<div>\n",
       "<style scoped>\n",
       "    .dataframe tbody tr th:only-of-type {\n",
       "        vertical-align: middle;\n",
       "    }\n",
       "\n",
       "    .dataframe tbody tr th {\n",
       "        vertical-align: top;\n",
       "    }\n",
       "\n",
       "    .dataframe thead th {\n",
       "        text-align: right;\n",
       "    }\n",
       "</style>\n",
       "<table border=\"1\" class=\"dataframe\">\n",
       "  <thead>\n",
       "    <tr style=\"text-align: right;\">\n",
       "      <th></th>\n",
       "      <th>SAT</th>\n",
       "      <th>GPA</th>\n",
       "    </tr>\n",
       "  </thead>\n",
       "  <tbody>\n",
       "    <tr>\n",
       "      <th>count</th>\n",
       "      <td>84.0</td>\n",
       "      <td>84.0</td>\n",
       "    </tr>\n",
       "    <tr>\n",
       "      <th>mean</th>\n",
       "      <td>1845.0</td>\n",
       "      <td>3.0</td>\n",
       "    </tr>\n",
       "    <tr>\n",
       "      <th>std</th>\n",
       "      <td>105.0</td>\n",
       "      <td>0.0</td>\n",
       "    </tr>\n",
       "    <tr>\n",
       "      <th>min</th>\n",
       "      <td>1634.0</td>\n",
       "      <td>2.0</td>\n",
       "    </tr>\n",
       "    <tr>\n",
       "      <th>25%</th>\n",
       "      <td>1772.0</td>\n",
       "      <td>3.0</td>\n",
       "    </tr>\n",
       "    <tr>\n",
       "      <th>50%</th>\n",
       "      <td>1846.0</td>\n",
       "      <td>3.0</td>\n",
       "    </tr>\n",
       "    <tr>\n",
       "      <th>75%</th>\n",
       "      <td>1934.0</td>\n",
       "      <td>4.0</td>\n",
       "    </tr>\n",
       "    <tr>\n",
       "      <th>max</th>\n",
       "      <td>2050.0</td>\n",
       "      <td>4.0</td>\n",
       "    </tr>\n",
       "  </tbody>\n",
       "</table>\n",
       "</div>"
      ],
      "text/plain": [
       "          SAT   GPA\n",
       "count    84.0  84.0\n",
       "mean   1845.0   3.0\n",
       "std     105.0   0.0\n",
       "min    1634.0   2.0\n",
       "25%    1772.0   3.0\n",
       "50%    1846.0   3.0\n",
       "75%    1934.0   4.0\n",
       "max    2050.0   4.0"
      ]
     },
     "execution_count": 10,
     "metadata": {},
     "output_type": "execute_result"
    }
   ],
   "source": [
    "data.describe().round()"
   ]
  },
  {
   "cell_type": "code",
   "execution_count": 11,
   "metadata": {},
   "outputs": [],
   "source": [
    "# Identificaremos las variables, entonces:\n",
    "x=data['SAT'] # x es la variable independiente\n",
    "y=data['GPA'] # y es la variable dependiente"
   ]
  },
  {
   "cell_type": "code",
   "execution_count": 12,
   "metadata": {},
   "outputs": [
    {
     "data": {
      "image/png": "[encoded data removed]",
      "text/plain": [
       "<Figure size 640x480 with 1 Axes>"
      ]
     },
     "metadata": {},
     "output_type": "display_data"
    }
   ],
   "source": [
    "plt.scatter(x, y, color='blue')\n",
    "plt.xlabel('SAT')\n",
    "plt.ylabel('GPA')\n",
    "plt.show()"
   ]
  },
  {
   "cell_type": "code",
   "execution_count": 13,
   "metadata": {},
   "outputs": [
    {
     "name": "stdout",
     "output_type": "stream",
     "text": [
      "interseccion (b):  0.27504029966028076\n",
      "pendiente (m):  [0.00165569]\n"
     ]
    }
   ],
   "source": [
    "regresion=linear_model.LinearRegression()\n",
    "sat=data['SAT'].values.reshape((-1,1))\n",
    "modelo=regresion.fit(sat, data['GPA'])\n",
    "print('interseccion (b): ', modelo.intercept_)\n",
    "print('pendiente (m): ', modelo.coef_)"
   ]
  },
  {
   "cell_type": "code",
   "execution_count": 14,
   "metadata": {},
   "outputs": [
    {
     "name": "stdout",
     "output_type": "stream",
     "text": [
      "R-squared score: 0.40600391479679765\n"
     ]
    }
   ],
   "source": [
    "# Get the R-squared score\n",
    "r_squared = modelo.score(sat, data['GPA'])\n",
    "\n",
    "print(\"R-squared score:\", r_squared)"
   ]
  },
  {
   "attachments": {},
   "cell_type": "markdown",
   "metadata": {},
   "source": [
    "El R-cuadrado muestra cuánto de la variabilidad total del conjunto de datos es explicado por tu regresión. Esto podría ser expresado como: qué tan bien tu modelo se ajusta a tus datos. R cuadrado= variabilidad explicada por la regresion(SSR)/ variabilidad  del conjunto total de datos(SST)\n",
    "En esta tabla encontramos R cuadrado: Un R al cuadrado cerca de 0 indica que tu regresión no explica la variabilidad de los datos, mientras un R cuadrado de 1 significaría que el modelo explica toda la variabilidad de los datos. Ahora, ¿De cuanto es un buen R cuadrado?: aunque no tenemos la respuesta, en la fisica y quimica los cientificos buscan usualmente buscan resultados de 0.7 y 0.99, sin embargo en las ciencias sociales como economía, finanzas y psicólogia, resultados de 0.2, es decir donde el 20% de la variabilidad es explicada con el modelo, es aceptable.\n",
    "En este caso tenemos un R cuadrado de 0.406, es decir, los resultados SAT explican el 41% de la variabilida de la calificaciones del GPA.\n",
    "Notando este que un 41% esta lejos de explicar los resultados de las notas del GPA entonces implicaría que hay otros determinantes que inciden en estos promedios, como pueden ser género o ingresos"
   ]
  },
  {
   "attachments": {},
   "cell_type": "markdown",
   "metadata": {},
   "source": [
    "Estos resultados lo que nos indica es que la pendiente se intecepta en el punto 0.275 y que las puntaciones del GPA se elevan en correspondencia al resultado del SAT en 0.00165569, hagamos una prueba..."
   ]
  },
  {
   "cell_type": "code",
   "execution_count": 15,
   "metadata": {},
   "outputs": [
    {
     "data": {
      "text/plain": [
       "array([2.92414118, 3.08970998, 3.25527879, 3.42084759])"
      ]
     },
     "execution_count": 15,
     "metadata": {},
     "output_type": "execute_result"
    }
   ],
   "source": [
    "entrada=[[1600], [1700], [1800], [1900]]\n",
    "modelo.predict(entrada)"
   ]
  },
  {
   "attachments": {},
   "cell_type": "markdown",
   "metadata": {},
   "source": [
    "Los resultados de la prueba lo que estiman es que el promedio del sat de una persona con 1600 de puntuación, el GPA será de 2.92, y así, por cada valor de prueba que pusimos el GPA se ha ido incrementando en 0.00166569. Veamolo en una grafica..."
   ]
  },
  {
   "cell_type": "code",
   "execution_count": 16,
   "metadata": {},
   "outputs": [
    {
     "data": {
      "image/png": "[encoded data removed]",
      "text/plain": [
       "<Figure size 640x480 with 1 Axes>"
      ]
     },
     "metadata": {},
     "output_type": "display_data"
    }
   ],
   "source": [
    "plt.scatter(entrada, modelo.predict(entrada), color='red')\n",
    "plt.plot(entrada, modelo.predict(entrada), color='black')\n",
    "plt.scatter(x,y, color='blue')\n",
    "plt.xlabel('SAT')\n",
    "plt.ylabel('GPA')\n",
    "plt.show()"
   ]
  },
  {
   "attachments": {},
   "cell_type": "markdown",
   "metadata": {},
   "source": [
    "Aquí vemos nustros datos de prueba más claramente y cómo se ubican en relacion con lo datos originales"
   ]
  }
 ],
 "metadata": {
  "kernelspec": {
   "display_name": "Python 3",
   "language": "python",
   "name": "python3"
  },
  "language_info": {
   "codemirror_mode": {
    "name": "ipython",
    "version": 3
   },
   "file_extension": ".py",
   "mimetype": "text/x-python",
   "name": "python",
   "nbconvert_exporter": "python",
   "pygments_lexer": "ipython3",
   "version": "3.11.4"
  },
  "orig_nbformat": 4
 },
 "nbformat": 4,
 "nbformat_minor": 2
}
